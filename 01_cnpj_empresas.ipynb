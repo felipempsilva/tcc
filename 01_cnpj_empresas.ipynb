{
 "cells": [
  {
   "cell_type": "markdown",
   "id": "94a25c8d",
   "metadata": {},
   "source": [
    "<B>TCC PUC MINAS - MAIO/2022</B><BR>\n",
    "ANÁLISE DE PARCELAMENTO DE DÉBITOS INSCRITOS EM DÍVIDA ATIVA DA UNIÃO ATRAVÉS DE MACHINE LEARNING<BR>\n",
    "FELIPE MARTINS<BR>\n",
    "\n",
    "TRATAMENTO DOS ARQUIVOS DA BASE CNPJ / EMPRESA (8 DÍGITOS)"
   ]
  },
  {
   "cell_type": "code",
   "execution_count": 1,
   "id": "ad98bf06",
   "metadata": {},
   "outputs": [],
   "source": [
    "import pandas as pd"
   ]
  },
  {
   "cell_type": "code",
   "execution_count": 2,
   "id": "c512f095",
   "metadata": {},
   "outputs": [],
   "source": [
    "df0 = pd.read_csv(\"CNPJ_empresa/K3241.K03200Y0.D10510.EMPRECSV.zip\", sep= ';', encoding='ISO-8859-1', usecols=[0, 2, 5], names=['CNPJ_BASICO', 'NAT_JURID', 'PORTE'], dtype={'CNPJ_BASICO':object, 'NAT_JURID':object, 'PORTE':object})   #nrows=5"
   ]
  },
  {
   "cell_type": "code",
   "execution_count": 3,
   "id": "2130bea0",
   "metadata": {},
   "outputs": [
    {
     "data": {
      "text/html": [
       "<div>\n",
       "<style scoped>\n",
       "    .dataframe tbody tr th:only-of-type {\n",
       "        vertical-align: middle;\n",
       "    }\n",
       "\n",
       "    .dataframe tbody tr th {\n",
       "        vertical-align: top;\n",
       "    }\n",
       "\n",
       "    .dataframe thead th {\n",
       "        text-align: right;\n",
       "    }\n",
       "</style>\n",
       "<table border=\"1\" class=\"dataframe\">\n",
       "  <thead>\n",
       "    <tr style=\"text-align: right;\">\n",
       "      <th></th>\n",
       "      <th>CNPJ_BASICO</th>\n",
       "      <th>NAT_JURID</th>\n",
       "      <th>PORTE</th>\n",
       "    </tr>\n",
       "  </thead>\n",
       "  <tbody>\n",
       "    <tr>\n",
       "      <th>0</th>\n",
       "      <td>41273604</td>\n",
       "      <td>2062</td>\n",
       "      <td>01</td>\n",
       "    </tr>\n",
       "    <tr>\n",
       "      <th>1</th>\n",
       "      <td>41273605</td>\n",
       "      <td>2135</td>\n",
       "      <td>01</td>\n",
       "    </tr>\n",
       "    <tr>\n",
       "      <th>2</th>\n",
       "      <td>41273606</td>\n",
       "      <td>2135</td>\n",
       "      <td>01</td>\n",
       "    </tr>\n",
       "    <tr>\n",
       "      <th>3</th>\n",
       "      <td>41273607</td>\n",
       "      <td>2135</td>\n",
       "      <td>01</td>\n",
       "    </tr>\n",
       "    <tr>\n",
       "      <th>4</th>\n",
       "      <td>41273608</td>\n",
       "      <td>2135</td>\n",
       "      <td>01</td>\n",
       "    </tr>\n",
       "  </tbody>\n",
       "</table>\n",
       "</div>"
      ],
      "text/plain": [
       "  CNPJ_BASICO NAT_JURID PORTE\n",
       "0    41273604      2062    01\n",
       "1    41273605      2135    01\n",
       "2    41273606      2135    01\n",
       "3    41273607      2135    01\n",
       "4    41273608      2135    01"
      ]
     },
     "execution_count": 3,
     "metadata": {},
     "output_type": "execute_result"
    }
   ],
   "source": [
    "df0.head()"
   ]
  },
  {
   "cell_type": "code",
   "execution_count": 4,
   "id": "2afe3d55",
   "metadata": {},
   "outputs": [
    {
     "data": {
      "text/plain": [
       "CNPJ_BASICO    object\n",
       "NAT_JURID      object\n",
       "PORTE          object\n",
       "dtype: object"
      ]
     },
     "execution_count": 4,
     "metadata": {},
     "output_type": "execute_result"
    }
   ],
   "source": [
    "df0.dtypes"
   ]
  },
  {
   "cell_type": "code",
   "execution_count": 5,
   "id": "b037727a",
   "metadata": {},
   "outputs": [],
   "source": [
    "df1 = pd.read_csv(\"CNPJ_empresa/K3241.K03200Y1.D10510.EMPRECSV.zip\", sep= ';', encoding='ISO-8859-1', usecols=[0, 2, 5], names=['CNPJ_BASICO', 'NAT_JURID', 'PORTE'], dtype={'CNPJ_BASICO':object, 'NAT_JURID':object, 'PORTE':object})   #nrows=5"
   ]
  },
  {
   "cell_type": "code",
   "execution_count": 6,
   "id": "0105ad02",
   "metadata": {},
   "outputs": [],
   "source": [
    "df2 = pd.read_csv(\"CNPJ_empresa/K3241.K03200Y2.D10510.EMPRECSV.zip\", sep= ';', encoding='ISO-8859-1', usecols=[0, 2, 5], names=['CNPJ_BASICO', 'NAT_JURID', 'PORTE'], dtype={'CNPJ_BASICO':object, 'NAT_JURID':object, 'PORTE':object})   #nrows=5"
   ]
  },
  {
   "cell_type": "code",
   "execution_count": 7,
   "id": "8b933863",
   "metadata": {},
   "outputs": [],
   "source": [
    "df3 = pd.read_csv(\"CNPJ_empresa/K3241.K03200Y3.D10510.EMPRECSV.zip\", sep= ';', encoding='ISO-8859-1', usecols=[0, 2, 5], names=['CNPJ_BASICO', 'NAT_JURID', 'PORTE'], dtype={'CNPJ_BASICO':object, 'NAT_JURID':object, 'PORTE':object})   #nrows=5"
   ]
  },
  {
   "cell_type": "code",
   "execution_count": 8,
   "id": "913b9777",
   "metadata": {},
   "outputs": [],
   "source": [
    "df4 = pd.read_csv(\"CNPJ_empresa/K3241.K03200Y4.D10510.EMPRECSV.zip\", sep= ';', encoding='ISO-8859-1', usecols=[0, 2, 5], names=['CNPJ_BASICO', 'NAT_JURID', 'PORTE'], dtype={'CNPJ_BASICO':object, 'NAT_JURID':object, 'PORTE':object})   #nrows=5"
   ]
  },
  {
   "cell_type": "code",
   "execution_count": 9,
   "id": "717ac028",
   "metadata": {},
   "outputs": [],
   "source": [
    "df5 = pd.read_csv(\"CNPJ_empresa/K3241.K03200Y5.D10510.EMPRECSV.zip\", sep= ';', encoding='ISO-8859-1', usecols=[0, 2, 5], names=['CNPJ_BASICO', 'NAT_JURID', 'PORTE'], dtype={'CNPJ_BASICO':object, 'NAT_JURID':object, 'PORTE':object})   #nrows=5"
   ]
  },
  {
   "cell_type": "code",
   "execution_count": 10,
   "id": "994e2e5d",
   "metadata": {},
   "outputs": [],
   "source": [
    "df6 = pd.read_csv(\"CNPJ_empresa/K3241.K03200Y6.D10510.EMPRECSV.zip\", sep= ';', encoding='ISO-8859-1', usecols=[0, 2, 5], names=['CNPJ_BASICO', 'NAT_JURID', 'PORTE'], dtype={'CNPJ_BASICO':object, 'NAT_JURID':object, 'PORTE':object})   #nrows=5"
   ]
  },
  {
   "cell_type": "code",
   "execution_count": 11,
   "id": "e2689e55",
   "metadata": {},
   "outputs": [],
   "source": [
    "df7 = pd.read_csv(\"CNPJ_empresa/K3241.K03200Y7.D10510.EMPRECSV.zip\", sep= ';', encoding='ISO-8859-1', usecols=[0, 2, 5], names=['CNPJ_BASICO', 'NAT_JURID', 'PORTE'], dtype={'CNPJ_BASICO':object, 'NAT_JURID':object, 'PORTE':object})   #nrows=5"
   ]
  },
  {
   "cell_type": "code",
   "execution_count": 12,
   "id": "a2195f73",
   "metadata": {},
   "outputs": [],
   "source": [
    "df8 = pd.read_csv(\"CNPJ_empresa/K3241.K03200Y8.D10510.EMPRECSV.zip\", sep= ';', encoding='ISO-8859-1', usecols=[0, 2, 5], names=['CNPJ_BASICO', 'NAT_JURID', 'PORTE'], dtype={'CNPJ_BASICO':object, 'NAT_JURID':object, 'PORTE':object})   #nrows=5"
   ]
  },
  {
   "cell_type": "code",
   "execution_count": 13,
   "id": "b9402564",
   "metadata": {},
   "outputs": [],
   "source": [
    "df9 = pd.read_csv(\"CNPJ_empresa/K3241.K03200Y9.D10510.EMPRECSV.zip\", sep= ';', encoding='ISO-8859-1', usecols=[0, 2, 5], names=['CNPJ_BASICO', 'NAT_JURID', 'PORTE'], dtype={'CNPJ_BASICO':object, 'NAT_JURID':object, 'PORTE':object})   #nrows=5"
   ]
  },
  {
   "cell_type": "code",
   "execution_count": 14,
   "id": "3466d524",
   "metadata": {},
   "outputs": [],
   "source": [
    "# CONCATENANDO OS 10 DATASETS GERADOS ACIMA\n",
    "df_princ = pd.concat([df0, df1, df2, df3, df4, df5, df6, df7, df8, df9])"
   ]
  },
  {
   "cell_type": "code",
   "execution_count": 15,
   "id": "5d2de839",
   "metadata": {},
   "outputs": [
    {
     "data": {
      "text/plain": [
       "CNPJ_BASICO    45811638\n",
       "NAT_JURID      45811638\n",
       "PORTE          45752207\n",
       "dtype: int64"
      ]
     },
     "execution_count": 15,
     "metadata": {},
     "output_type": "execute_result"
    }
   ],
   "source": [
    "df_princ.count()"
   ]
  },
  {
   "cell_type": "code",
   "execution_count": 16,
   "id": "d2665948",
   "metadata": {},
   "outputs": [
    {
     "data": {
      "text/plain": [
       "CNPJ_BASICO    object\n",
       "NAT_JURID      object\n",
       "PORTE          object\n",
       "dtype: object"
      ]
     },
     "execution_count": 16,
     "metadata": {},
     "output_type": "execute_result"
    }
   ],
   "source": [
    "df_princ.dtypes"
   ]
  },
  {
   "cell_type": "code",
   "execution_count": 19,
   "id": "18c7e715",
   "metadata": {},
   "outputs": [
    {
     "data": {
      "text/plain": [
       "CNPJ_BASICO    45811638\n",
       "NAT_JURID      45811638\n",
       "PORTE          45752207\n",
       "dtype: int64"
      ]
     },
     "execution_count": 19,
     "metadata": {},
     "output_type": "execute_result"
    }
   ],
   "source": [
    "df_princ.count()"
   ]
  },
  {
   "cell_type": "code",
   "execution_count": 20,
   "id": "8f188544",
   "metadata": {},
   "outputs": [],
   "source": [
    "# EXPORTANTO ARQUIVO CONCATENADO\n",
    "df_princ.to_csv(\"01_cnpj_empresa.csv\")"
   ]
  },
  {
   "cell_type": "code",
   "execution_count": null,
   "id": "8b166d91",
   "metadata": {},
   "outputs": [],
   "source": []
  }
 ],
 "metadata": {
  "kernelspec": {
   "display_name": "Python 3 (ipykernel)",
   "language": "python",
   "name": "python3"
  },
  "language_info": {
   "codemirror_mode": {
    "name": "ipython",
    "version": 3
   },
   "file_extension": ".py",
   "mimetype": "text/x-python",
   "name": "python",
   "nbconvert_exporter": "python",
   "pygments_lexer": "ipython3",
   "version": "3.9.7"
  }
 },
 "nbformat": 4,
 "nbformat_minor": 5
}
