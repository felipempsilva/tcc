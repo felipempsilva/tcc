{
 "cells": [
  {
   "cell_type": "markdown",
   "metadata": {},
   "source": [
    "<B>TCC PUC MINAS - MAIO/2022</B><BR>\n",
    "ANÁLISE DE PARCELAMENTO DE DÉBITOS INSCRITOS EM DÍVIDA ATIVA DA UNIÃO ATRAVÉS DE MACHINE LEARNING<BR>\n",
    "FELIPE MARTINS<BR>\n",
    "\n",
    "09 - MACHINE LEARNING\n",
    "    \n",
    "Tempo aproximado de processamento: 1h30"
   ]
  },
  {
   "cell_type": "markdown",
   "metadata": {},
   "source": [
    "# 1. Preparo incial"
   ]
  },
  {
   "cell_type": "markdown",
   "metadata": {
    "id": "X_Np96nsOeqO"
   },
   "source": [
    "**Importando as bibliotecas necessárias**"
   ]
  },
  {
   "cell_type": "code",
   "execution_count": 1,
   "metadata": {
    "id": "jzcyKnUhzlCt"
   },
   "outputs": [],
   "source": [
    "# Importando as bibliotecas necessárias\n",
    "\n",
    "from sklearn.model_selection import StratifiedKFold\n",
    "from sklearn.model_selection import RandomizedSearchCV\n",
    "from sklearn import model_selection\n",
    "from sklearn.linear_model import LogisticRegression\n",
    "from sklearn.tree import DecisionTreeClassifier\n",
    "from sklearn.model_selection import GridSearchCV\n",
    "from sklearn.neighbors import KNeighborsClassifier\n",
    "from sklearn.ensemble import RandomForestClassifier\n",
    "from sklearn.naive_bayes import GaussianNB\n",
    "from xgboost import XGBClassifier\n",
    "from sklearn.model_selection import train_test_split\n",
    "from sklearn import metrics\n",
    "from sklearn.metrics import accuracy_score, roc_auc_score, f1_score, precision_score, recall_score\n",
    "from sklearn.model_selection import cross_val_predict\n",
    "from sklearn.metrics import confusion_matrix\n",
    "from sklearn.metrics import classification_report\n",
    "from sklearn.metrics import matthews_corrcoef\n",
    "import pickle\n",
    "from joblib import dump\n",
    "import pandas as pd\n",
    "import numpy as np\n",
    "import seaborn as sns\n",
    "import matplotlib.pyplot as plt\n",
    "from matplotlib import style\n",
    "style.use('ggplot')"
   ]
  },
  {
   "cell_type": "markdown",
   "metadata": {
    "id": "m1w83stWzlC2"
   },
   "source": [
    "**Carregando a base de dados**"
   ]
  },
  {
   "cell_type": "code",
   "execution_count": 2,
   "metadata": {
    "id": "WX9sO7jPzlC4"
   },
   "outputs": [],
   "source": [
    "df=pd.read_csv('07_dataset_final_com_dados_continuos.csv')  #nrows=10000"
   ]
  },
  {
   "cell_type": "code",
   "execution_count": 3,
   "metadata": {},
   "outputs": [],
   "source": [
    "# EXCLUINDO COLUNA Unnamed\n",
    "df = df.drop(columns=['Unnamed: 0', 'COD_TIPO_SIT_INSC', 'COD_SIT_INSC'])"
   ]
  },
  {
   "cell_type": "markdown",
   "metadata": {
    "id": "RD9ptfZTzlC-"
   },
   "source": [
    "**Primeiras 5 linhas**"
   ]
  },
  {
   "cell_type": "code",
   "execution_count": 4,
   "metadata": {
    "colab": {
     "base_uri": "https://localhost:8080/",
     "height": 310
    },
    "id": "uwX-vZodzlC_",
    "outputId": "9ddc9f05-88dd-4c1e-8a8f-cf4db3be49cd",
    "scrolled": true
   },
   "outputs": [
    {
     "data": {
      "text/html": [
       "<div>\n",
       "<style scoped>\n",
       "    .dataframe tbody tr th:only-of-type {\n",
       "        vertical-align: middle;\n",
       "    }\n",
       "\n",
       "    .dataframe tbody tr th {\n",
       "        vertical-align: top;\n",
       "    }\n",
       "\n",
       "    .dataframe thead th {\n",
       "        text-align: right;\n",
       "    }\n",
       "</style>\n",
       "<table border=\"1\" class=\"dataframe\">\n",
       "  <thead>\n",
       "    <tr style=\"text-align: right;\">\n",
       "      <th></th>\n",
       "      <th>TIPO_PESSOA</th>\n",
       "      <th>COD_RECEITA</th>\n",
       "      <th>INDICADOR_AJUIZADO</th>\n",
       "      <th>HA_OUTROS_DEBITOS</th>\n",
       "      <th>INSC_&gt;1_ANO</th>\n",
       "      <th>VALOR_CONSOLIDADO</th>\n",
       "      <th>VALOR_FAIXA</th>\n",
       "      <th>COD_SIT_CADAST</th>\n",
       "      <th>COD_CNAE_PRINC</th>\n",
       "      <th>COD_NAT_JURID</th>\n",
       "      <th>COD_PORTE</th>\n",
       "      <th>ATIV_&gt;10_ANOS</th>\n",
       "      <th>PARCELADO</th>\n",
       "    </tr>\n",
       "  </thead>\n",
       "  <tbody>\n",
       "    <tr>\n",
       "      <th>0</th>\n",
       "      <td>1</td>\n",
       "      <td>0.009147</td>\n",
       "      <td>0</td>\n",
       "      <td>1</td>\n",
       "      <td>1</td>\n",
       "      <td>1.024026e-04</td>\n",
       "      <td>0.777778</td>\n",
       "      <td>-1.556471</td>\n",
       "      <td>0.275200</td>\n",
       "      <td>0.023340</td>\n",
       "      <td>0.041484</td>\n",
       "      <td>1</td>\n",
       "      <td>0</td>\n",
       "    </tr>\n",
       "    <tr>\n",
       "      <th>1</th>\n",
       "      <td>1</td>\n",
       "      <td>-0.066197</td>\n",
       "      <td>0</td>\n",
       "      <td>1</td>\n",
       "      <td>1</td>\n",
       "      <td>1.364299e-07</td>\n",
       "      <td>0.111111</td>\n",
       "      <td>0.490522</td>\n",
       "      <td>0.586070</td>\n",
       "      <td>-0.060573</td>\n",
       "      <td>0.041484</td>\n",
       "      <td>1</td>\n",
       "      <td>1</td>\n",
       "    </tr>\n",
       "    <tr>\n",
       "      <th>2</th>\n",
       "      <td>1</td>\n",
       "      <td>-0.066197</td>\n",
       "      <td>1</td>\n",
       "      <td>1</td>\n",
       "      <td>1</td>\n",
       "      <td>2.608829e-05</td>\n",
       "      <td>0.666667</td>\n",
       "      <td>-1.556471</td>\n",
       "      <td>0.198774</td>\n",
       "      <td>0.115958</td>\n",
       "      <td>-0.080524</td>\n",
       "      <td>1</td>\n",
       "      <td>0</td>\n",
       "    </tr>\n",
       "    <tr>\n",
       "      <th>3</th>\n",
       "      <td>1</td>\n",
       "      <td>0.009147</td>\n",
       "      <td>0</td>\n",
       "      <td>1</td>\n",
       "      <td>0</td>\n",
       "      <td>2.460639e-07</td>\n",
       "      <td>0.111111</td>\n",
       "      <td>0.490522</td>\n",
       "      <td>-0.059852</td>\n",
       "      <td>0.147429</td>\n",
       "      <td>0.125105</td>\n",
       "      <td>0</td>\n",
       "      <td>1</td>\n",
       "    </tr>\n",
       "    <tr>\n",
       "      <th>4</th>\n",
       "      <td>1</td>\n",
       "      <td>0.021237</td>\n",
       "      <td>0</td>\n",
       "      <td>1</td>\n",
       "      <td>1</td>\n",
       "      <td>2.765668e-07</td>\n",
       "      <td>0.111111</td>\n",
       "      <td>0.490522</td>\n",
       "      <td>0.295323</td>\n",
       "      <td>0.023340</td>\n",
       "      <td>0.041484</td>\n",
       "      <td>1</td>\n",
       "      <td>1</td>\n",
       "    </tr>\n",
       "  </tbody>\n",
       "</table>\n",
       "</div>"
      ],
      "text/plain": [
       "   TIPO_PESSOA  COD_RECEITA  INDICADOR_AJUIZADO  HA_OUTROS_DEBITOS  \\\n",
       "0            1     0.009147                   0                  1   \n",
       "1            1    -0.066197                   0                  1   \n",
       "2            1    -0.066197                   1                  1   \n",
       "3            1     0.009147                   0                  1   \n",
       "4            1     0.021237                   0                  1   \n",
       "\n",
       "   INSC_>1_ANO  VALOR_CONSOLIDADO  VALOR_FAIXA  COD_SIT_CADAST  \\\n",
       "0            1       1.024026e-04     0.777778       -1.556471   \n",
       "1            1       1.364299e-07     0.111111        0.490522   \n",
       "2            1       2.608829e-05     0.666667       -1.556471   \n",
       "3            0       2.460639e-07     0.111111        0.490522   \n",
       "4            1       2.765668e-07     0.111111        0.490522   \n",
       "\n",
       "   COD_CNAE_PRINC  COD_NAT_JURID  COD_PORTE  ATIV_>10_ANOS  PARCELADO  \n",
       "0        0.275200       0.023340   0.041484              1          0  \n",
       "1        0.586070      -0.060573   0.041484              1          1  \n",
       "2        0.198774       0.115958  -0.080524              1          0  \n",
       "3       -0.059852       0.147429   0.125105              0          1  \n",
       "4        0.295323       0.023340   0.041484              1          1  "
      ]
     },
     "execution_count": 4,
     "metadata": {},
     "output_type": "execute_result"
    }
   ],
   "source": [
    "df.head()"
   ]
  },
  {
   "cell_type": "markdown",
   "metadata": {
    "id": "eFsK_Q9cO7rS"
   },
   "source": [
    "**Últimas 5 linhas**"
   ]
  },
  {
   "cell_type": "code",
   "execution_count": 5,
   "metadata": {
    "colab": {
     "base_uri": "https://localhost:8080/",
     "height": 328
    },
    "id": "Cd2AorZezlDG",
    "outputId": "4c9c8b85-8197-4d59-a2c4-20621a9071ca"
   },
   "outputs": [
    {
     "data": {
      "text/html": [
       "<div>\n",
       "<style scoped>\n",
       "    .dataframe tbody tr th:only-of-type {\n",
       "        vertical-align: middle;\n",
       "    }\n",
       "\n",
       "    .dataframe tbody tr th {\n",
       "        vertical-align: top;\n",
       "    }\n",
       "\n",
       "    .dataframe thead th {\n",
       "        text-align: right;\n",
       "    }\n",
       "</style>\n",
       "<table border=\"1\" class=\"dataframe\">\n",
       "  <thead>\n",
       "    <tr style=\"text-align: right;\">\n",
       "      <th></th>\n",
       "      <th>TIPO_PESSOA</th>\n",
       "      <th>COD_RECEITA</th>\n",
       "      <th>INDICADOR_AJUIZADO</th>\n",
       "      <th>HA_OUTROS_DEBITOS</th>\n",
       "      <th>INSC_&gt;1_ANO</th>\n",
       "      <th>VALOR_CONSOLIDADO</th>\n",
       "      <th>VALOR_FAIXA</th>\n",
       "      <th>COD_SIT_CADAST</th>\n",
       "      <th>COD_CNAE_PRINC</th>\n",
       "      <th>COD_NAT_JURID</th>\n",
       "      <th>COD_PORTE</th>\n",
       "      <th>ATIV_&gt;10_ANOS</th>\n",
       "      <th>PARCELADO</th>\n",
       "    </tr>\n",
       "  </thead>\n",
       "  <tbody>\n",
       "    <tr>\n",
       "      <th>749642</th>\n",
       "      <td>1</td>\n",
       "      <td>0.009147</td>\n",
       "      <td>0</td>\n",
       "      <td>1</td>\n",
       "      <td>1</td>\n",
       "      <td>4.974330e-07</td>\n",
       "      <td>0.111111</td>\n",
       "      <td>0.490522</td>\n",
       "      <td>0.032369</td>\n",
       "      <td>0.023340</td>\n",
       "      <td>0.041484</td>\n",
       "      <td>0</td>\n",
       "      <td>0</td>\n",
       "    </tr>\n",
       "    <tr>\n",
       "      <th>749643</th>\n",
       "      <td>1</td>\n",
       "      <td>0.009147</td>\n",
       "      <td>0</td>\n",
       "      <td>1</td>\n",
       "      <td>1</td>\n",
       "      <td>4.684272e-07</td>\n",
       "      <td>0.111111</td>\n",
       "      <td>0.490522</td>\n",
       "      <td>0.000292</td>\n",
       "      <td>-0.060573</td>\n",
       "      <td>0.041484</td>\n",
       "      <td>1</td>\n",
       "      <td>0</td>\n",
       "    </tr>\n",
       "    <tr>\n",
       "      <th>749644</th>\n",
       "      <td>1</td>\n",
       "      <td>-0.629144</td>\n",
       "      <td>0</td>\n",
       "      <td>0</td>\n",
       "      <td>1</td>\n",
       "      <td>1.430652e-07</td>\n",
       "      <td>0.111111</td>\n",
       "      <td>0.490522</td>\n",
       "      <td>0.466813</td>\n",
       "      <td>-0.023395</td>\n",
       "      <td>-0.080524</td>\n",
       "      <td>1</td>\n",
       "      <td>0</td>\n",
       "    </tr>\n",
       "    <tr>\n",
       "      <th>749645</th>\n",
       "      <td>1</td>\n",
       "      <td>-0.066197</td>\n",
       "      <td>0</td>\n",
       "      <td>1</td>\n",
       "      <td>0</td>\n",
       "      <td>1.037075e-05</td>\n",
       "      <td>0.555556</td>\n",
       "      <td>0.490522</td>\n",
       "      <td>-0.057881</td>\n",
       "      <td>0.023340</td>\n",
       "      <td>-0.080524</td>\n",
       "      <td>1</td>\n",
       "      <td>0</td>\n",
       "    </tr>\n",
       "    <tr>\n",
       "      <th>749646</th>\n",
       "      <td>0</td>\n",
       "      <td>0.183730</td>\n",
       "      <td>0</td>\n",
       "      <td>1</td>\n",
       "      <td>0</td>\n",
       "      <td>6.845147e-07</td>\n",
       "      <td>0.222222</td>\n",
       "      <td>-0.110833</td>\n",
       "      <td>-0.110833</td>\n",
       "      <td>-0.110900</td>\n",
       "      <td>-0.110900</td>\n",
       "      <td>0</td>\n",
       "      <td>0</td>\n",
       "    </tr>\n",
       "  </tbody>\n",
       "</table>\n",
       "</div>"
      ],
      "text/plain": [
       "        TIPO_PESSOA  COD_RECEITA  INDICADOR_AJUIZADO  HA_OUTROS_DEBITOS  \\\n",
       "749642            1     0.009147                   0                  1   \n",
       "749643            1     0.009147                   0                  1   \n",
       "749644            1    -0.629144                   0                  0   \n",
       "749645            1    -0.066197                   0                  1   \n",
       "749646            0     0.183730                   0                  1   \n",
       "\n",
       "        INSC_>1_ANO  VALOR_CONSOLIDADO  VALOR_FAIXA  COD_SIT_CADAST  \\\n",
       "749642            1       4.974330e-07     0.111111        0.490522   \n",
       "749643            1       4.684272e-07     0.111111        0.490522   \n",
       "749644            1       1.430652e-07     0.111111        0.490522   \n",
       "749645            0       1.037075e-05     0.555556        0.490522   \n",
       "749646            0       6.845147e-07     0.222222       -0.110833   \n",
       "\n",
       "        COD_CNAE_PRINC  COD_NAT_JURID  COD_PORTE  ATIV_>10_ANOS  PARCELADO  \n",
       "749642        0.032369       0.023340   0.041484              0          0  \n",
       "749643        0.000292      -0.060573   0.041484              1          0  \n",
       "749644        0.466813      -0.023395  -0.080524              1          0  \n",
       "749645       -0.057881       0.023340  -0.080524              1          0  \n",
       "749646       -0.110833      -0.110900  -0.110900              0          0  "
      ]
     },
     "execution_count": 5,
     "metadata": {},
     "output_type": "execute_result"
    }
   ],
   "source": [
    "df.tail()"
   ]
  },
  {
   "cell_type": "markdown",
   "metadata": {},
   "source": [
    "**Verificando tipo de dados**"
   ]
  },
  {
   "cell_type": "code",
   "execution_count": 6,
   "metadata": {},
   "outputs": [
    {
     "name": "stdout",
     "output_type": "stream",
     "text": [
      "<class 'pandas.core.frame.DataFrame'>\n",
      "RangeIndex: 749647 entries, 0 to 749646\n",
      "Data columns (total 13 columns):\n",
      " #   Column              Non-Null Count   Dtype  \n",
      "---  ------              --------------   -----  \n",
      " 0   TIPO_PESSOA         749647 non-null  int64  \n",
      " 1   COD_RECEITA         749647 non-null  float64\n",
      " 2   INDICADOR_AJUIZADO  749647 non-null  int64  \n",
      " 3   HA_OUTROS_DEBITOS   749647 non-null  int64  \n",
      " 4   INSC_>1_ANO         749647 non-null  int64  \n",
      " 5   VALOR_CONSOLIDADO   749647 non-null  float64\n",
      " 6   VALOR_FAIXA         749647 non-null  float64\n",
      " 7   COD_SIT_CADAST      749647 non-null  float64\n",
      " 8   COD_CNAE_PRINC      749647 non-null  float64\n",
      " 9   COD_NAT_JURID       749647 non-null  float64\n",
      " 10  COD_PORTE           749647 non-null  float64\n",
      " 11  ATIV_>10_ANOS       749647 non-null  int64  \n",
      " 12  PARCELADO           749647 non-null  int64  \n",
      "dtypes: float64(7), int64(6)\n",
      "memory usage: 74.4 MB\n"
     ]
    }
   ],
   "source": [
    "df.info()"
   ]
  },
  {
   "cell_type": "markdown",
   "metadata": {
    "id": "KqxbeXY9PDqO"
   },
   "source": [
    "**Verificando valores nulos**"
   ]
  },
  {
   "cell_type": "code",
   "execution_count": 7,
   "metadata": {
    "colab": {
     "base_uri": "https://localhost:8080/"
    },
    "id": "-8zcwI73zlDM",
    "outputId": "a7346e49-1300-4010-e086-1c978ee7de83"
   },
   "outputs": [
    {
     "data": {
      "text/plain": [
       "TIPO_PESSOA           0\n",
       "COD_RECEITA           0\n",
       "INDICADOR_AJUIZADO    0\n",
       "HA_OUTROS_DEBITOS     0\n",
       "INSC_>1_ANO           0\n",
       "VALOR_CONSOLIDADO     0\n",
       "VALOR_FAIXA           0\n",
       "COD_SIT_CADAST        0\n",
       "COD_CNAE_PRINC        0\n",
       "COD_NAT_JURID         0\n",
       "COD_PORTE             0\n",
       "ATIV_>10_ANOS         0\n",
       "PARCELADO             0\n",
       "dtype: int64"
      ]
     },
     "execution_count": 7,
     "metadata": {},
     "output_type": "execute_result"
    }
   ],
   "source": [
    "df.isnull().sum()"
   ]
  },
  {
   "cell_type": "markdown",
   "metadata": {
    "id": "Vu8jVY72ghQU"
   },
   "source": [
    "**Substituindo os valores nulos de todas as colunas por 0**"
   ]
  },
  {
   "cell_type": "code",
   "execution_count": 8,
   "metadata": {
    "id": "aLSjDgjtzlFO"
   },
   "outputs": [],
   "source": [
    "# SUBSTITUINDO DADOS NULOS / NAN POR ZERO PARA EVITAR ERROS NAS CONVERSÕES\n",
    "df.fillna(value = 0, inplace = True)"
   ]
  },
  {
   "cell_type": "markdown",
   "metadata": {
    "id": "3tvgEzDbg2cu"
   },
   "source": [
    "**Verificando se ainda existem valores nulos no Dataset**"
   ]
  },
  {
   "cell_type": "code",
   "execution_count": 9,
   "metadata": {
    "colab": {
     "base_uri": "https://localhost:8080/"
    },
    "id": "Z5aIiK1hzlFk",
    "outputId": "c8be0e5a-fe49-489b-d8ff-c55ac59fb095"
   },
   "outputs": [
    {
     "name": "stdout",
     "output_type": "stream",
     "text": [
      "Existem valores nulos no dataset? False\n"
     ]
    }
   ],
   "source": [
    "if df.isnull().sum().sort_values(ascending=False).any() != 0:\n",
    "    print(f'Existem valores nulos no dataset? {True}')\n",
    "else:\n",
    "    print(f'Existem valores nulos no dataset? {False}')"
   ]
  },
  {
   "cell_type": "code",
   "execution_count": 10,
   "metadata": {
    "colab": {
     "base_uri": "https://localhost:8080/"
    },
    "id": "Okj9_SyqzlDT",
    "outputId": "1b964cb8-dade-464e-fecb-5ff15b2ad2bb",
    "scrolled": true
   },
   "outputs": [
    {
     "data": {
      "text/plain": [
       "TIPO_PESSOA           749647\n",
       "COD_RECEITA           749647\n",
       "INDICADOR_AJUIZADO    749647\n",
       "HA_OUTROS_DEBITOS     749647\n",
       "INSC_>1_ANO           749647\n",
       "VALOR_CONSOLIDADO     749647\n",
       "VALOR_FAIXA           749647\n",
       "COD_SIT_CADAST        749647\n",
       "COD_CNAE_PRINC        749647\n",
       "COD_NAT_JURID         749647\n",
       "COD_PORTE             749647\n",
       "ATIV_>10_ANOS         749647\n",
       "PARCELADO             749647\n",
       "dtype: int64"
      ]
     },
     "execution_count": 10,
     "metadata": {},
     "output_type": "execute_result"
    }
   ],
   "source": [
    "df.count()"
   ]
  },
  {
   "cell_type": "markdown",
   "metadata": {
    "id": "lv_e3Yf_lxdS"
   },
   "source": [
    "# 2. Selecionando Features Importantes"
   ]
  },
  {
   "cell_type": "markdown",
   "metadata": {
    "id": "eM8q94rIl2T5"
   },
   "source": [
    "**Separando a classe dos Dados**"
   ]
  },
  {
   "cell_type": "code",
   "execution_count": 11,
   "metadata": {},
   "outputs": [],
   "source": [
    "# Separando os atributos e a classe do dataset em X e y:\n",
    "X = df\n",
    "X = df.drop('PARCELADO', axis=1) #removendo a variável target de X\n",
    "y = df['PARCELADO'] # variável alvo/target\n",
    "\n",
    "# Definindo uma SEED global\n",
    "np.random.seed(7)\n",
    "\n",
    "# Particionando em conjuntos de treino e teste mantendo a proporção de classes\n",
    "X_train, X_test, y_train, y_test = train_test_split(X, y, test_size = 0.2, stratify=y)"
   ]
  },
  {
   "cell_type": "code",
   "execution_count": 12,
   "metadata": {
    "id": "b_bk5MlTzlGG"
   },
   "outputs": [],
   "source": [
    "#previsores = df.drop('PARCELADO',axis=1) ==> X\n",
    "#classe = df['PARCELADO'] ==> y"
   ]
  },
  {
   "cell_type": "markdown",
   "metadata": {
    "id": "eM8q94rIl2T5"
   },
   "source": [
    "**Criando classificador para visualizar as features mais importantes para o modelo**"
   ]
  },
  {
   "cell_type": "code",
   "execution_count": 13,
   "metadata": {
    "colab": {
     "base_uri": "https://localhost:8080/"
    },
    "id": "J025QF1RzlGK",
    "outputId": "2cd1c2e7-1004-42b4-d39e-359e5a3ef360"
   },
   "outputs": [
    {
     "name": "stdout",
     "output_type": "stream",
     "text": [
      "Wall time: 1min 10s\n"
     ]
    }
   ],
   "source": [
    "%%time\n",
    "# processamento demorado\n",
    "clf_feature_import = RandomForestClassifier(n_estimators=100, random_state=12)\n",
    "clf_feature_import = clf_feature_import.fit(X_train,y_train)"
   ]
  },
  {
   "cell_type": "markdown",
   "metadata": {
    "id": "4J2BmRH1nAVL"
   },
   "source": [
    "**Visualizando as features mais importantes**"
   ]
  },
  {
   "cell_type": "code",
   "execution_count": 14,
   "metadata": {
    "colab": {
     "base_uri": "https://localhost:8080/"
    },
    "id": "lxE5Uf_ezlGO",
    "outputId": "e874105e-a077-4d6f-d18d-04607333d80e"
   },
   "outputs": [
    {
     "data": {
      "text/plain": [
       "VALOR_CONSOLIDADO     0.291073\n",
       "COD_CNAE_PRINC        0.203444\n",
       "COD_SIT_CADAST        0.145570\n",
       "COD_RECEITA           0.134286\n",
       "VALOR_FAIXA           0.058659\n",
       "COD_NAT_JURID         0.051524\n",
       "INSC_>1_ANO           0.034094\n",
       "COD_PORTE             0.028431\n",
       "INDICADOR_AJUIZADO    0.025139\n",
       "ATIV_>10_ANOS         0.013400\n",
       "HA_OUTROS_DEBITOS     0.011670\n",
       "TIPO_PESSOA           0.002710\n",
       "dtype: float64"
      ]
     },
     "execution_count": 14,
     "metadata": {},
     "output_type": "execute_result"
    }
   ],
   "source": [
    "feature_imp = pd.Series(clf_feature_import.feature_importances_,index=X.columns).sort_values(ascending=False)\n",
    "feature_imp"
   ]
  },
  {
   "cell_type": "markdown",
   "metadata": {
    "id": "H7WswkhxnFgY"
   },
   "source": [
    "**Visualizando graficamente as features mais importantes**"
   ]
  },
  {
   "cell_type": "code",
   "execution_count": 15,
   "metadata": {
    "colab": {
     "base_uri": "https://localhost:8080/",
     "height": 410
    },
    "id": "Ys4oCBy_zlGU",
    "outputId": "e4059774-1361-4871-9ff8-eaeb51fdda91",
    "scrolled": false
   },
   "outputs": [
    {
     "data": {
      "image/png": "[encoded data removed]",
      "text/plain": [
       "<Figure size 576x432 with 1 Axes>"
      ]
     },
     "metadata": {},
     "output_type": "display_data"
    }
   ],
   "source": [
    "plt.figure(figsize=(8,6))\n",
    "sns.barplot(x=feature_imp, y=feature_imp.index)\n",
    "plt.xlabel('Feature Importance Score')\n",
    "plt.ylabel('Features')\n",
    "plt.title(\"Visualizing Important Features\")\n",
    "plt.show()"
   ]
  },
  {
   "cell_type": "markdown",
   "metadata": {
    "id": "rhQ6u7YonNY1"
   },
   "source": [
    "**Selecionando as features de maior importância**\n",
    "\n",
    "Aquelas acima de 1% de importância"
   ]
  },
  {
   "cell_type": "code",
   "execution_count": 16,
   "metadata": {
    "colab": {
     "base_uri": "https://localhost:8080/"
    },
    "id": "b7tosWI5zlGY",
    "outputId": "6422db45-d0ce-452b-e8f7-6cc6dbc346c3",
    "scrolled": false
   },
   "outputs": [
    {
     "name": "stdout",
     "output_type": "stream",
     "text": [
      "VALOR_CONSOLIDADO: 29%\n",
      "COD_CNAE_PRINC: 20%\n",
      "COD_SIT_CADAST: 15%\n",
      "COD_RECEITA: 13%\n",
      "VALOR_FAIXA: 6%\n",
      "COD_NAT_JURID: 5%\n",
      "INSC_>1_ANO: 3%\n",
      "COD_PORTE: 3%\n",
      "INDICADOR_AJUIZADO: 3%\n"
     ]
    }
   ],
   "source": [
    "features_selected = []\n",
    "for feature,importance in feature_imp.iteritems():\n",
    "# iteritems retorna um iterador que nos permiter iterar sobre a chave ou valor\n",
    "    if importance > 0.02:\n",
    "        print(f'{feature}: {round(importance * 100)}%')\n",
    "        features_selected.append(feature)"
   ]
  },
  {
   "cell_type": "markdown",
   "metadata": {
    "id": "2dl-n2xjoTv-"
   },
   "source": [
    "# 3. Treinando Modelos de Machine Learning"
   ]
  },
  {
   "cell_type": "markdown",
   "metadata": {
    "id": "e5Zk529in__C"
   },
   "source": [
    "**Redividindo o dataset, desta vez apenas as features selecionadas**"
   ]
  },
  {
   "cell_type": "code",
   "execution_count": 17,
   "metadata": {
    "id": "IBrw0z6zzlGc"
   },
   "outputs": [],
   "source": [
    "# train_test_split já realizado no tópico anterior\n",
    "X = df[features_selected]  # Atualizando X apenas para features selecionadas\n",
    "y = df['PARCELADO']  # y permanece o mesmo\n"
   ]
  },
  {
   "cell_type": "markdown",
   "metadata": {
    "id": "wIZP3douoO4E"
   },
   "source": [
    "**Testando diversos algoritmos candidatos de Machine Learning**"
   ]
  },
  {
   "cell_type": "code",
   "execution_count": 84,
   "metadata": {
    "scrolled": false
   },
   "outputs": [
    {
     "name": "stdout",
     "output_type": "stream",
     "text": [
      "TESTANDO ALGORITMOS COM BALANCEAMENTO PARAMETRIZADO\n",
      "MODELO: ACCURACY PRECISIO RECALL   F1       MCC      ROC_AUC  MEDIA GERAL\n",
      "LRe   : 0.596118 0.336733 0.777311 0.469903 0.269333 0.659608 0.518168\n",
      "Gau   : 0.549030 0.316148 0.823882 0.456951 0.249824 0.645338 0.506862\n",
      "DTr   : 0.652478 0.347128 0.577937 0.433738 0.218830 0.626359 0.476078\n",
      "RFo   : 0.666951 0.364226 0.598471 0.452850 0.248201 0.642956 0.495609\n",
      "KNN   : 0.748869 0.426418 0.262164 0.324700 0.189186 0.578327 0.421611\n",
      "XGB   : 0.633949 0.359562 0.754634 0.487055 0.296963 0.676237 0.534733\n",
      "Wall time: 3min 15s\n"
     ]
    }
   ],
   "source": [
    "%%time\n",
    "\n",
    "print('TESTANDO ALGORITMOS COM BALANCEAMENTO PARAMETRIZADO')\n",
    "print('MODELO:', 'ACCURACY', 'PRECISIO', 'RECALL  ', 'F1      ', 'MCC     ', 'ROC_AUC ',  'MEDIA GERAL')\n",
    "\n",
    "clf_choose_model = []\n",
    "clf_choose_model.append(('LRe', LogisticRegression(class_weight='balanced'))),\n",
    "clf_choose_model.append(('Gau', GaussianNB())),\n",
    "clf_choose_model.append(('DTr', DecisionTreeClassifier(class_weight='balanced'))),\n",
    "clf_choose_model.append(('RFo', RandomForestClassifier(class_weight='balanced'))),\n",
    "clf_choose_model.append(('KNN', KNeighborsClassifier())),\n",
    "clf_choose_model.append(('XGB', XGBClassifier(scale_pos_weight=3.3)))\n",
    "\n",
    "resultado_accuracy = []\n",
    "resultado_precision = []\n",
    "resultado_recall = []\n",
    "resultado_f1 = []\n",
    "resultado_mcc = []\n",
    "resultado_roc_auc = []\n",
    "\n",
    "resultado_geral = []\n",
    "nomes = []\n",
    "\n",
    "# Percorrendo cada um dos modelos, treinando-o e avaliando-o\n",
    "for nome, modelo in clf_choose_model:\n",
    "    modelo = modelo.fit(X_train,y_train)\n",
    "    y_pred_choose_model = modelo.predict(X_test)\n",
    "    ttsplit_result_accuracy = accuracy_score(y_test, y_pred_choose_model)\n",
    "    ttsplit_result_precision = precision_score(y_test, y_pred_choose_model)\n",
    "    ttsplit_result_recall = recall_score(y_test, y_pred_choose_model)\n",
    "    ttsplit_result_f1 = f1_score(y_test, y_pred_choose_model)\n",
    "    ttsplit_result_mcc = matthews_corrcoef(y_test, y_pred_choose_model)\n",
    "    ttsplit_result_roc_auc = roc_auc_score(y_test, y_pred_choose_model)\n",
    "    \n",
    "    ttsplit_result_geral = (ttsplit_result_accuracy + ttsplit_result_precision + ttsplit_result_recall + ttsplit_result_f1 + ttsplit_result_mcc + ttsplit_result_roc_auc)/6\n",
    "    \n",
    "    resultado_accuracy.append(ttsplit_result_accuracy)\n",
    "    resultado_precision.append(ttsplit_result_precision)\n",
    "    resultado_recall.append(ttsplit_result_recall)\n",
    "    resultado_f1.append(ttsplit_result_f1)\n",
    "    resultado_mcc.append(ttsplit_result_mcc)\n",
    "    resultado_roc_auc.append(ttsplit_result_roc_auc)\n",
    "    \n",
    "    resultado_geral.append(ttsplit_result_geral)\n",
    "    nomes.append(nome)\n",
    "    \n",
    "# retornando a média das validações, bem como seu desvio padrão\n",
    "    texto = \"%s   : %f %f %f %f %f %f %f\" % (nome, ttsplit_result_accuracy.mean(), ttsplit_result_precision.mean(), ttsplit_result_recall.mean(), ttsplit_result_f1.mean(),  ttsplit_result_mcc.mean(),  ttsplit_result_roc_auc.mean(), ttsplit_result_geral.mean())\n",
    "    print(texto)"
   ]
  },
  {
   "cell_type": "code",
   "execution_count": null,
   "metadata": {},
   "outputs": [],
   "source": []
  },
  {
   "cell_type": "markdown",
   "metadata": {
    "id": "rvuAC4zjw8Hg"
   },
   "source": [
    "# 4. Fazendo Tuning do Modelo"
   ]
  },
  {
   "cell_type": "markdown",
   "metadata": {
    "id": "ur821lTwzRUM"
   },
   "source": [
    "**MODELO ESCOLHIDO: XGBoost / SCORE ALVO: F1**<BR>\n",
    "Melhor modelo: XGBoost. Ajustaremos seus parâmetros com RandomizedSearchCV com vistas a obter o melhor f1_score possível."
   ]
  },
  {
   "cell_type": "code",
   "execution_count": 20,
   "metadata": {},
   "outputs": [
    {
     "name": "stdout",
     "output_type": "stream",
     "text": [
      "[06:51:28] WARNING: C:/Users/Administrator/workspace/xgboost-win64_release_1.6.0/src/learner.cc:1205: Starting in XGBoost 1.4.0, the default evaluation metric used with the objective 'binary:logitraw' was changed from 'auc' to 'logloss'. Explicitly set eval_metric if you'd like to restore the old behavior.\n",
      "[06:53:07] WARNING: C:/Users/Administrator/workspace/xgboost-win64_release_1.6.0/src/learner.cc:1205: Starting in XGBoost 1.4.0, the default evaluation metric used with the objective 'binary:logitraw' was changed from 'auc' to 'logloss'. Explicitly set eval_metric if you'd like to restore the old behavior.\n",
      "[06:54:48] WARNING: C:/Users/Administrator/workspace/xgboost-win64_release_1.6.0/src/learner.cc:1205: Starting in XGBoost 1.4.0, the default evaluation metric used with the objective 'binary:logitraw' was changed from 'auc' to 'logloss'. Explicitly set eval_metric if you'd like to restore the old behavior.\n",
      "[06:56:30] WARNING: C:/Users/Administrator/workspace/xgboost-win64_release_1.6.0/src/learner.cc:1205: Starting in XGBoost 1.4.0, the default evaluation metric used with the objective 'binary:logitraw' was changed from 'auc' to 'logloss'. Explicitly set eval_metric if you'd like to restore the old behavior.\n",
      "[06:58:13] WARNING: C:/Users/Administrator/workspace/xgboost-win64_release_1.6.0/src/learner.cc:1205: Starting in XGBoost 1.4.0, the default evaluation metric used with the objective 'binary:logitraw' was changed from 'auc' to 'logloss'. Explicitly set eval_metric if you'd like to restore the old behavior.\n",
      "[07:07:09] WARNING: C:/Users/Administrator/workspace/xgboost-win64_release_1.6.0/src/learner.cc:627: \n",
      "Parameters: { \"scale_pos_weight\" } might not be used.\n",
      "\n",
      "  This could be a false alarm, with some parameters getting used by language bindings but\n",
      "  then being mistakenly passed down to XGBoost core, or some parameter actually being used\n",
      "  but getting flagged wrongly here. Please open an issue if you find any such cases.\n",
      "\n",
      "\n",
      "[07:08:23] WARNING: C:/Users/Administrator/workspace/xgboost-win64_release_1.6.0/src/learner.cc:627: \n",
      "Parameters: { \"scale_pos_weight\" } might not be used.\n",
      "\n",
      "  This could be a false alarm, with some parameters getting used by language bindings but\n",
      "  then being mistakenly passed down to XGBoost core, or some parameter actually being used\n",
      "  but getting flagged wrongly here. Please open an issue if you find any such cases.\n",
      "\n",
      "\n",
      "[07:09:43] WARNING: C:/Users/Administrator/workspace/xgboost-win64_release_1.6.0/src/learner.cc:627: \n",
      "Parameters: { \"scale_pos_weight\" } might not be used.\n",
      "\n",
      "  This could be a false alarm, with some parameters getting used by language bindings but\n",
      "  then being mistakenly passed down to XGBoost core, or some parameter actually being used\n",
      "  but getting flagged wrongly here. Please open an issue if you find any such cases.\n",
      "\n",
      "\n",
      "[07:10:55] WARNING: C:/Users/Administrator/workspace/xgboost-win64_release_1.6.0/src/learner.cc:627: \n",
      "Parameters: { \"scale_pos_weight\" } might not be used.\n",
      "\n",
      "  This could be a false alarm, with some parameters getting used by language bindings but\n",
      "  then being mistakenly passed down to XGBoost core, or some parameter actually being used\n",
      "  but getting flagged wrongly here. Please open an issue if you find any such cases.\n",
      "\n",
      "\n",
      "[07:12:09] WARNING: C:/Users/Administrator/workspace/xgboost-win64_release_1.6.0/src/learner.cc:627: \n",
      "Parameters: { \"scale_pos_weight\" } might not be used.\n",
      "\n",
      "  This could be a false alarm, with some parameters getting used by language bindings but\n",
      "  then being mistakenly passed down to XGBoost core, or some parameter actually being used\n",
      "  but getting flagged wrongly here. Please open an issue if you find any such cases.\n",
      "\n",
      "\n",
      "[07:13:24] WARNING: C:/Users/Administrator/workspace/xgboost-win64_release_1.6.0/src/learner.cc:1205: Starting in XGBoost 1.4.0, the default evaluation metric used with the objective 'binary:logitraw' was changed from 'auc' to 'logloss'. Explicitly set eval_metric if you'd like to restore the old behavior.\n",
      "[07:15:16] WARNING: C:/Users/Administrator/workspace/xgboost-win64_release_1.6.0/src/learner.cc:1205: Starting in XGBoost 1.4.0, the default evaluation metric used with the objective 'binary:logitraw' was changed from 'auc' to 'logloss'. Explicitly set eval_metric if you'd like to restore the old behavior.\n",
      "[07:16:57] WARNING: C:/Users/Administrator/workspace/xgboost-win64_release_1.6.0/src/learner.cc:1205: Starting in XGBoost 1.4.0, the default evaluation metric used with the objective 'binary:logitraw' was changed from 'auc' to 'logloss'. Explicitly set eval_metric if you'd like to restore the old behavior.\n",
      "[07:18:38] WARNING: C:/Users/Administrator/workspace/xgboost-win64_release_1.6.0/src/learner.cc:1205: Starting in XGBoost 1.4.0, the default evaluation metric used with the objective 'binary:logitraw' was changed from 'auc' to 'logloss'. Explicitly set eval_metric if you'd like to restore the old behavior.\n",
      "[07:20:19] WARNING: C:/Users/Administrator/workspace/xgboost-win64_release_1.6.0/src/learner.cc:1205: Starting in XGBoost 1.4.0, the default evaluation metric used with the objective 'binary:logitraw' was changed from 'auc' to 'logloss'. Explicitly set eval_metric if you'd like to restore the old behavior.\n"
     ]
    },
    {
     "name": "stderr",
     "output_type": "stream",
     "text": [
      "C:\\Users\\62914855320\\Anaconda3\\lib\\site-packages\\sklearn\\model_selection\\_validation.py:372: FitFailedWarning: \n",
      "20 fits failed out of a total of 50.\n",
      "The score on these train-test partitions for these parameters will be set to nan.\n",
      "If these failures are not expected, you can try to debug them by setting error_score='raise'.\n",
      "\n",
      "Below are more details about the failures:\n",
      "--------------------------------------------------------------------------------\n",
      "3 fits failed with the following error:\n",
      "Traceback (most recent call last):\n",
      "  File \"C:\\Users\\62914855320\\Anaconda3\\lib\\site-packages\\sklearn\\model_selection\\_validation.py\", line 680, in _fit_and_score\n",
      "    estimator.fit(X_train, y_train, **fit_params)\n",
      "  File \"C:\\Users\\62914855320\\Anaconda3\\lib\\site-packages\\xgboost\\core.py\", line 532, in inner_f\n",
      "    return f(**kwargs)\n",
      "  File \"C:\\Users\\62914855320\\Anaconda3\\lib\\site-packages\\xgboost\\sklearn.py\", line 1400, in fit\n",
      "    self._Booster = train(\n",
      "  File \"C:\\Users\\62914855320\\Anaconda3\\lib\\site-packages\\xgboost\\core.py\", line 532, in inner_f\n",
      "    return f(**kwargs)\n",
      "  File \"C:\\Users\\62914855320\\Anaconda3\\lib\\site-packages\\xgboost\\training.py\", line 181, in train\n",
      "    bst.update(dtrain, i, obj)\n",
      "  File \"C:\\Users\\62914855320\\Anaconda3\\lib\\site-packages\\xgboost\\core.py\", line 1733, in update\n",
      "    _check_call(_LIB.XGBoosterUpdateOneIter(self.handle,\n",
      "  File \"C:\\Users\\62914855320\\Anaconda3\\lib\\site-packages\\xgboost\\core.py\", line 203, in _check_call\n",
      "    raise XGBoostError(py_str(_LIB.XGBGetLastError()))\n",
      "xgboost.core.XGBoostError: [07:07:08] C:\\Users\\Administrator\\workspace\\xgboost-win64_release_1.6.0\\src\\gbm\\gbm.cc:24: Unknown gbm type gbtreee\n",
      "\n",
      "--------------------------------------------------------------------------------\n",
      "2 fits failed with the following error:\n",
      "Traceback (most recent call last):\n",
      "  File \"C:\\Users\\62914855320\\Anaconda3\\lib\\site-packages\\sklearn\\model_selection\\_validation.py\", line 680, in _fit_and_score\n",
      "    estimator.fit(X_train, y_train, **fit_params)\n",
      "  File \"C:\\Users\\62914855320\\Anaconda3\\lib\\site-packages\\xgboost\\core.py\", line 532, in inner_f\n",
      "    return f(**kwargs)\n",
      "  File \"C:\\Users\\62914855320\\Anaconda3\\lib\\site-packages\\xgboost\\sklearn.py\", line 1400, in fit\n",
      "    self._Booster = train(\n",
      "  File \"C:\\Users\\62914855320\\Anaconda3\\lib\\site-packages\\xgboost\\core.py\", line 532, in inner_f\n",
      "    return f(**kwargs)\n",
      "  File \"C:\\Users\\62914855320\\Anaconda3\\lib\\site-packages\\xgboost\\training.py\", line 181, in train\n",
      "    bst.update(dtrain, i, obj)\n",
      "  File \"C:\\Users\\62914855320\\Anaconda3\\lib\\site-packages\\xgboost\\core.py\", line 1733, in update\n",
      "    _check_call(_LIB.XGBoosterUpdateOneIter(self.handle,\n",
      "  File \"C:\\Users\\62914855320\\Anaconda3\\lib\\site-packages\\xgboost\\core.py\", line 203, in _check_call\n",
      "    raise XGBoostError(py_str(_LIB.XGBGetLastError()))\n",
      "xgboost.core.XGBoostError: [07:07:09] C:\\Users\\Administrator\\workspace\\xgboost-win64_release_1.6.0\\src\\gbm\\gbm.cc:24: Unknown gbm type gbtreee\n",
      "\n",
      "--------------------------------------------------------------------------------\n",
      "1 fits failed with the following error:\n",
      "Traceback (most recent call last):\n",
      "  File \"C:\\Users\\62914855320\\Anaconda3\\lib\\site-packages\\sklearn\\model_selection\\_validation.py\", line 680, in _fit_and_score\n",
      "    estimator.fit(X_train, y_train, **fit_params)\n",
      "  File \"C:\\Users\\62914855320\\Anaconda3\\lib\\site-packages\\xgboost\\core.py\", line 532, in inner_f\n",
      "    return f(**kwargs)\n",
      "  File \"C:\\Users\\62914855320\\Anaconda3\\lib\\site-packages\\xgboost\\sklearn.py\", line 1400, in fit\n",
      "    self._Booster = train(\n",
      "  File \"C:\\Users\\62914855320\\Anaconda3\\lib\\site-packages\\xgboost\\core.py\", line 532, in inner_f\n",
      "    return f(**kwargs)\n",
      "  File \"C:\\Users\\62914855320\\Anaconda3\\lib\\site-packages\\xgboost\\training.py\", line 181, in train\n",
      "    bst.update(dtrain, i, obj)\n",
      "  File \"C:\\Users\\62914855320\\Anaconda3\\lib\\site-packages\\xgboost\\core.py\", line 1733, in update\n",
      "    _check_call(_LIB.XGBoosterUpdateOneIter(self.handle,\n",
      "  File \"C:\\Users\\62914855320\\Anaconda3\\lib\\site-packages\\xgboost\\core.py\", line 203, in _check_call\n",
      "    raise XGBoostError(py_str(_LIB.XGBGetLastError()))\n",
      "xgboost.core.XGBoostError: [07:30:36] C:\\Users\\Administrator\\workspace\\xgboost-win64_release_1.6.0\\src\\gbm\\gbm.cc:24: Unknown gbm type gbtreee\n",
      "\n",
      "--------------------------------------------------------------------------------\n",
      "4 fits failed with the following error:\n",
      "Traceback (most recent call last):\n",
      "  File \"C:\\Users\\62914855320\\Anaconda3\\lib\\site-packages\\sklearn\\model_selection\\_validation.py\", line 680, in _fit_and_score\n",
      "    estimator.fit(X_train, y_train, **fit_params)\n",
      "  File \"C:\\Users\\62914855320\\Anaconda3\\lib\\site-packages\\xgboost\\core.py\", line 532, in inner_f\n",
      "    return f(**kwargs)\n",
      "  File \"C:\\Users\\62914855320\\Anaconda3\\lib\\site-packages\\xgboost\\sklearn.py\", line 1400, in fit\n",
      "    self._Booster = train(\n",
      "  File \"C:\\Users\\62914855320\\Anaconda3\\lib\\site-packages\\xgboost\\core.py\", line 532, in inner_f\n",
      "    return f(**kwargs)\n",
      "  File \"C:\\Users\\62914855320\\Anaconda3\\lib\\site-packages\\xgboost\\training.py\", line 181, in train\n",
      "    bst.update(dtrain, i, obj)\n",
      "  File \"C:\\Users\\62914855320\\Anaconda3\\lib\\site-packages\\xgboost\\core.py\", line 1733, in update\n",
      "    _check_call(_LIB.XGBoosterUpdateOneIter(self.handle,\n",
      "  File \"C:\\Users\\62914855320\\Anaconda3\\lib\\site-packages\\xgboost\\core.py\", line 203, in _check_call\n",
      "    raise XGBoostError(py_str(_LIB.XGBGetLastError()))\n",
      "xgboost.core.XGBoostError: [07:30:37] C:\\Users\\Administrator\\workspace\\xgboost-win64_release_1.6.0\\src\\gbm\\gbm.cc:24: Unknown gbm type gbtreee\n",
      "\n",
      "--------------------------------------------------------------------------------\n",
      "3 fits failed with the following error:\n",
      "Traceback (most recent call last):\n",
      "  File \"C:\\Users\\62914855320\\Anaconda3\\lib\\site-packages\\sklearn\\model_selection\\_validation.py\", line 680, in _fit_and_score\n",
      "    estimator.fit(X_train, y_train, **fit_params)\n",
      "  File \"C:\\Users\\62914855320\\Anaconda3\\lib\\site-packages\\xgboost\\core.py\", line 532, in inner_f\n",
      "    return f(**kwargs)\n",
      "  File \"C:\\Users\\62914855320\\Anaconda3\\lib\\site-packages\\xgboost\\sklearn.py\", line 1400, in fit\n",
      "    self._Booster = train(\n",
      "  File \"C:\\Users\\62914855320\\Anaconda3\\lib\\site-packages\\xgboost\\core.py\", line 532, in inner_f\n",
      "    return f(**kwargs)\n",
      "  File \"C:\\Users\\62914855320\\Anaconda3\\lib\\site-packages\\xgboost\\training.py\", line 181, in train\n",
      "    bst.update(dtrain, i, obj)\n",
      "  File \"C:\\Users\\62914855320\\Anaconda3\\lib\\site-packages\\xgboost\\core.py\", line 1733, in update\n",
      "    _check_call(_LIB.XGBoosterUpdateOneIter(self.handle,\n",
      "  File \"C:\\Users\\62914855320\\Anaconda3\\lib\\site-packages\\xgboost\\core.py\", line 203, in _check_call\n",
      "    raise XGBoostError(py_str(_LIB.XGBGetLastError()))\n",
      "xgboost.core.XGBoostError: [07:38:59] C:\\Users\\Administrator\\workspace\\xgboost-win64_release_1.6.0\\src\\gbm\\gbm.cc:24: Unknown gbm type gbtreee\n",
      "\n",
      "--------------------------------------------------------------------------------\n",
      "3 fits failed with the following error:\n",
      "Traceback (most recent call last):\n",
      "  File \"C:\\Users\\62914855320\\Anaconda3\\lib\\site-packages\\sklearn\\model_selection\\_validation.py\", line 680, in _fit_and_score\n",
      "    estimator.fit(X_train, y_train, **fit_params)\n",
      "  File \"C:\\Users\\62914855320\\Anaconda3\\lib\\site-packages\\xgboost\\core.py\", line 532, in inner_f\n",
      "    return f(**kwargs)\n",
      "  File \"C:\\Users\\62914855320\\Anaconda3\\lib\\site-packages\\xgboost\\sklearn.py\", line 1400, in fit\n",
      "    self._Booster = train(\n",
      "  File \"C:\\Users\\62914855320\\Anaconda3\\lib\\site-packages\\xgboost\\core.py\", line 532, in inner_f\n",
      "    return f(**kwargs)\n",
      "  File \"C:\\Users\\62914855320\\Anaconda3\\lib\\site-packages\\xgboost\\training.py\", line 181, in train\n",
      "    bst.update(dtrain, i, obj)\n",
      "  File \"C:\\Users\\62914855320\\Anaconda3\\lib\\site-packages\\xgboost\\core.py\", line 1733, in update\n",
      "    _check_call(_LIB.XGBoosterUpdateOneIter(self.handle,\n",
      "  File \"C:\\Users\\62914855320\\Anaconda3\\lib\\site-packages\\xgboost\\core.py\", line 203, in _check_call\n",
      "    raise XGBoostError(py_str(_LIB.XGBGetLastError()))\n",
      "xgboost.core.XGBoostError: [07:39:00] C:\\Users\\Administrator\\workspace\\xgboost-win64_release_1.6.0\\src\\gbm\\gbm.cc:24: Unknown gbm type gbtreee\n",
      "\n",
      "--------------------------------------------------------------------------------\n",
      "4 fits failed with the following error:\n",
      "Traceback (most recent call last):\n",
      "  File \"C:\\Users\\62914855320\\Anaconda3\\lib\\site-packages\\sklearn\\model_selection\\_validation.py\", line 680, in _fit_and_score\n",
      "    estimator.fit(X_train, y_train, **fit_params)\n",
      "  File \"C:\\Users\\62914855320\\Anaconda3\\lib\\site-packages\\xgboost\\core.py\", line 532, in inner_f\n",
      "    return f(**kwargs)\n",
      "  File \"C:\\Users\\62914855320\\Anaconda3\\lib\\site-packages\\xgboost\\sklearn.py\", line 1400, in fit\n",
      "    self._Booster = train(\n",
      "  File \"C:\\Users\\62914855320\\Anaconda3\\lib\\site-packages\\xgboost\\core.py\", line 532, in inner_f\n",
      "    return f(**kwargs)\n",
      "  File \"C:\\Users\\62914855320\\Anaconda3\\lib\\site-packages\\xgboost\\training.py\", line 181, in train\n",
      "    bst.update(dtrain, i, obj)\n",
      "  File \"C:\\Users\\62914855320\\Anaconda3\\lib\\site-packages\\xgboost\\core.py\", line 1733, in update\n",
      "    _check_call(_LIB.XGBoosterUpdateOneIter(self.handle,\n",
      "  File \"C:\\Users\\62914855320\\Anaconda3\\lib\\site-packages\\xgboost\\core.py\", line 203, in _check_call\n",
      "    raise XGBoostError(py_str(_LIB.XGBGetLastError()))\n",
      "xgboost.core.XGBoostError: [07:39:01] C:\\Users\\Administrator\\workspace\\xgboost-win64_release_1.6.0\\src\\gbm\\gbm.cc:24: Unknown gbm type gbtreee\n",
      "\n",
      "  warnings.warn(some_fits_failed_message, FitFailedWarning)\n",
      "C:\\Users\\62914855320\\Anaconda3\\lib\\site-packages\\sklearn\\model_selection\\_search.py:969: UserWarning: One or more of the test scores are non-finite: [0.29419704 0.26034333        nan 0.2544034  0.43898604 0.48477568\n",
      "        nan 0.26096848        nan        nan]\n",
      "  warnings.warn(\n"
     ]
    },
    {
     "name": "stdout",
     "output_type": "stream",
     "text": [
      "Grid scores on development set:\n",
      "mean:0.2942,std:0.00118,params:{'scale_pos_weight': 2, 'objective': 'binary:logitraw', 'min_split_loss': 0.5, 'min_child_weight': 1, 'max_depth': 8, 'max_delta_step': 0, 'learning_rate': 0.1, 'booster': 'dart'}\n",
      "mean:0.26034,std:0.00125,params:{'scale_pos_weight': 1, 'objective': 'reg:logistic', 'min_split_loss': 0.1, 'min_child_weight': 2, 'max_depth': 6, 'max_delta_step': 0, 'learning_rate': 0.5, 'booster': 'dart'}\n",
      "mean:nan,std:nan,params:{'scale_pos_weight': 1, 'objective': 'reg:logistic', 'min_split_loss': 0, 'min_child_weight': 1, 'max_depth': 8, 'max_delta_step': 5, 'learning_rate': 0.5, 'booster': 'gbtreee'}\n",
      "mean:0.2544,std:0.00302,params:{'scale_pos_weight': 2, 'objective': 'binary:hinge', 'min_split_loss': 0.3, 'min_child_weight': 1, 'max_depth': 4, 'max_delta_step': 5, 'learning_rate': 0.1, 'booster': 'dart'}\n",
      "mean:0.43899,std:0.00184,params:{'scale_pos_weight': 3.3, 'objective': 'binary:logitraw', 'min_split_loss': 0.5, 'min_child_weight': 1, 'max_depth': 8, 'max_delta_step': 0, 'learning_rate': 0.5, 'booster': 'dart'}\n",
      "mean:0.48478,std:0.00118,params:{'scale_pos_weight': 3.3, 'objective': 'reg:logistic', 'min_split_loss': 0.5, 'min_child_weight': 1, 'max_depth': 8, 'max_delta_step': 10, 'learning_rate': 0.1, 'booster': 'dart'}\n",
      "mean:nan,std:nan,params:{'scale_pos_weight': 3.3, 'objective': 'binary:logistic', 'min_split_loss': 0, 'min_child_weight': 2, 'max_depth': 8, 'max_delta_step': 5, 'learning_rate': 0.5, 'booster': 'gbtreee'}\n",
      "mean:0.26097,std:0.0035,params:{'scale_pos_weight': 1, 'objective': 'reg:logistic', 'min_split_loss': 0.1, 'min_child_weight': 2, 'max_depth': 8, 'max_delta_step': 10, 'learning_rate': 0.3, 'booster': 'dart'}\n",
      "mean:nan,std:nan,params:{'scale_pos_weight': 2, 'objective': 'reg:squarederror', 'min_split_loss': 0.5, 'min_child_weight': 1, 'max_depth': 6, 'max_delta_step': 10, 'learning_rate': 0.1, 'booster': 'gbtreee'}\n",
      "mean:nan,std:nan,params:{'scale_pos_weight': 3.3, 'objective': 'reg:logistic', 'min_split_loss': 0.1, 'min_child_weight': 2, 'max_depth': 8, 'max_delta_step': 0, 'learning_rate': 0.1, 'booster': 'gbtreee'}\n",
      "\n",
      "Melhor parâmetro:{'scale_pos_weight': 3.3, 'objective': 'reg:logistic', 'min_split_loss': 0.5, 'min_child_weight': 1, 'max_depth': 8, 'max_delta_step': 10, 'learning_rate': 0.1, 'booster': 'dart'}, Score:0.48477567696982043\n",
      "Wall time: 49min 40s\n"
     ]
    }
   ],
   "source": [
    "%%time\n",
    "\n",
    "# Definindo um dicionário que recebe as listas de parâmetros e valores\n",
    "# Para visualizar todos os parâmetros, acesse (https://xgboost.readthedocs.io/en/stable/parameter.html)\n",
    "\n",
    "parametros_grid = {'objective':['reg:squarederror', 'reg:logistic', 'binary:logistic', 'binary:logitraw', 'binary:hinge'],\n",
    "                   'booster':['gbtreee', 'dart'],\n",
    "                   'scale_pos_weight':[1, 2, 3.3],\n",
    "                   'learning_rate':[0.1, 0.3, 0.5],\n",
    "                   'min_split_loss':[0, 0.1, 0.3, 0.5],\n",
    "                   'max_depth':[4, 6, 8],\n",
    "                   'min_child_weight':[1, 2],\n",
    "                   'max_delta_step':[0,5,10]\n",
    "                   }\n",
    "                      \n",
    "# Criando o modelo\n",
    "clf_grid = XGBClassifier()\n",
    "\n",
    "# Definindo K\n",
    "kfold = StratifiedKFold(n_splits=5, shuffle = True, random_state=12)\n",
    "\n",
    "# Testando diferentes combinações com os parâmetros\n",
    "grid = RandomizedSearchCV(estimator=clf_grid, param_distributions=parametros_grid, cv=kfold, scoring='f1')\n",
    "grid.fit(X, y)\n",
    "\n",
    "# Print do resultado\n",
    "print(\"Grid scores on development set:\")\n",
    "means = grid.cv_results_['mean_test_score'].round(5)\n",
    "stds = grid.cv_results_['std_test_score'].round(5)\n",
    "\n",
    "for mean, std, params in zip(means, stds, grid.cv_results_['params']):\n",
    "    print(f'mean:{mean},std:{std},params:{params}')\n",
    "print()\n",
    "print(f'Melhor parâmetro:{grid.best_params_}, Score:{grid.best_score_}')"
   ]
  },
  {
   "cell_type": "code",
   "execution_count": null,
   "metadata": {},
   "outputs": [],
   "source": []
  },
  {
   "cell_type": "markdown",
   "metadata": {
    "id": "GSRTOt8k0YKp"
   },
   "source": [
    "# 5. Preparando a Versão Final do Modelo"
   ]
  },
  {
   "cell_type": "markdown",
   "metadata": {
    "id": "ur821lTwzRUM"
   },
   "source": [
    "**COM XGBoost**<BR>\n",
    "Informar parâmetros indicados no RandomizeSearchCV"
   ]
  },
  {
   "cell_type": "code",
   "execution_count": 21,
   "metadata": {},
   "outputs": [
    {
     "name": "stdout",
     "output_type": "stream",
     "text": [
      "Wall time: 10min 39s\n"
     ]
    }
   ],
   "source": [
    "%%time\n",
    "\n",
    "# Aplicando algoritmo com os melhores hiperparâmetros\n",
    "\n",
    "# Separando os atributos e a classe do dataset em X e y:\n",
    "X = df[features_selected]  # Reatualizando X apenas para selecionados\n",
    "y = df['PARCELADO']  # y permanece o mesmo\n",
    "\n",
    "# Instanciando o algoritmo classificador escolhido (XGBoost)\n",
    "# Melhores parâmetros f1:{'scale_pos_weight': 3.3, 'objective': 'reg:logistic', 'min_split_loss': 0.5, 'min_child_weight': 1, 'max_depth': 8, 'max_delta_step': 10, 'learning_rate': 0.1, 'booster': 'dart'}, Score:0.48477567696982043\n",
    "clf =  XGBClassifier(scale_pos_weight=3.3, objective='reg:logistic', min_split_loss=0.5, min_child_weight=1, max_depth=8, max_delta_step=10, learning_rate=0.1, booster='dart')\n",
    "\n",
    "# Treinando o algoritmo classificador\n",
    "clf = clf.fit(X, y)\n",
    "\n",
    "# Realizando a predição do algoritmo utilizando-se de cross-validation\n",
    "y_pred = cross_val_predict(clf, X, y, cv=5)"
   ]
  },
  {
   "cell_type": "code",
   "execution_count": 22,
   "metadata": {},
   "outputs": [
    {
     "name": "stdout",
     "output_type": "stream",
     "text": [
      "Acurácia: 0.6289213456466843\n",
      "Precision score: 0.3563565688900503\n",
      "Recall score: 0.7583150870607862\n",
      "F1 score: 0.48486127931911865\n",
      "MCC score: 0.29352794437581625\n",
      "ROCAUC score: 0.6742612594169738\n"
     ]
    }
   ],
   "source": [
    "# Métricas de avaliação das predições\n",
    "\n",
    "print('Acurácia:',accuracy_score(y, y_pred))\n",
    "print('Precision score:',precision_score(y, y_pred))\n",
    "print('Recall score:',recall_score(y, y_pred))\n",
    "print('F1 score:',f1_score(y, y_pred))\n",
    "print('MCC score:',matthews_corrcoef(y, y_pred))\n",
    "print('ROCAUC score:',roc_auc_score(y, y_pred))"
   ]
  },
  {
   "cell_type": "code",
   "execution_count": 23,
   "metadata": {
    "scrolled": true
   },
   "outputs": [
    {
     "name": "stdout",
     "output_type": "stream",
     "text": [
      "          Predito       0       1     All\n",
      "Real                                     \n",
      "0                  340555  236454  577009\n",
      "1                   41724  130914  172638\n",
      "All                382279  367368  749647\n"
     ]
    }
   ],
   "source": [
    "# Matriz de Confusão\n",
    "\n",
    "print (pd.crosstab(y, y_pred, rownames = ['Real'], colnames = ['          Predito'], margins = True))"
   ]
  },
  {
   "cell_type": "code",
   "execution_count": 24,
   "metadata": {},
   "outputs": [
    {
     "name": "stdout",
     "output_type": "stream",
     "text": [
      "              precision    recall  f1-score   support\n",
      "\n",
      "           0       0.89      0.59      0.71    577009\n",
      "           1       0.36      0.76      0.48    172638\n",
      "\n",
      "    accuracy                           0.63    749647\n",
      "   macro avg       0.62      0.67      0.60    749647\n",
      "weighted avg       0.77      0.63      0.66    749647\n",
      "\n"
     ]
    }
   ],
   "source": [
    "# Relatório de Classificação\n",
    "print(metrics.classification_report(y, y_pred))"
   ]
  },
  {
   "cell_type": "code",
   "execution_count": null,
   "metadata": {},
   "outputs": [],
   "source": []
  },
  {
   "cell_type": "markdown",
   "metadata": {
    "id": "SJ4xgu6J3exU"
   },
   "source": [
    "# 6. Persistindo o Modelo em Disco"
   ]
  },
  {
   "cell_type": "markdown",
   "metadata": {
    "id": "VLFKPQiU3eIH"
   },
   "source": [
    "**Persistindo com Pickle**"
   ]
  },
  {
   "cell_type": "code",
   "execution_count": 25,
   "metadata": {
    "colab": {
     "base_uri": "https://localhost:8080/"
    },
    "id": "hif3BSqJzlGz",
    "outputId": "43c4c3aa-7289-45f4-9114-c5e76526ac0d"
   },
   "outputs": [
    {
     "data": {
      "text/plain": [
       "XGBClassifier(base_score=0.5, booster='dart', callbacks=None,\n",
       "              colsample_bylevel=1, colsample_bynode=1, colsample_bytree=1,\n",
       "              early_stopping_rounds=None, enable_categorical=False,\n",
       "              eval_metric=None, gamma=0.5, gpu_id=-1, grow_policy='depthwise',\n",
       "              importance_type=None, interaction_constraints='',\n",
       "              learning_rate=0.1, max_bin=256, max_cat_to_onehot=4,\n",
       "              max_delta_step=10, max_depth=8, max_leaves=0, min_child_weight=1,\n",
       "              min_split_loss=0.5, missing=nan, monotone_constraints='()',\n",
       "              n_estimators=100, n_jobs=0, num_parallel_tree=1,\n",
       "              objective='reg:logistic', predictor='auto', random_state=0, ...)"
      ]
     },
     "execution_count": 25,
     "metadata": {},
     "output_type": "execute_result"
    }
   ],
   "source": [
    "#filename = 'model_final.sav'\n",
    "pickle.dump(clf, open('modelo.sav', 'wb'))\n",
    "pickle.load(open('modelo.sav', 'rb'))"
   ]
  },
  {
   "cell_type": "markdown",
   "metadata": {
    "id": "neqxOXF84gvg"
   },
   "source": [
    "**Persistindo com Joblib**"
   ]
  },
  {
   "cell_type": "code",
   "execution_count": 26,
   "metadata": {
    "colab": {
     "base_uri": "https://localhost:8080/"
    },
    "id": "uv8PQFmf4il-",
    "outputId": "1004611a-fe29-401e-fbc7-5a3573fa41c0"
   },
   "outputs": [
    {
     "data": {
      "text/plain": [
       "['modelo.pkl']"
      ]
     },
     "execution_count": 26,
     "metadata": {},
     "output_type": "execute_result"
    }
   ],
   "source": [
    "dump(clf,'modelo.pkl')"
   ]
  },
  {
   "cell_type": "markdown",
   "metadata": {
    "id": "JepPuiIT5vc9"
   },
   "source": [
    "**Carregando o modelo**"
   ]
  },
  {
   "cell_type": "code",
   "execution_count": 27,
   "metadata": {
    "id": "7kJfK1JI7wDT"
   },
   "outputs": [],
   "source": [
    "from joblib import load\n",
    "model=load('modelo.pkl')"
   ]
  },
  {
   "cell_type": "markdown",
   "metadata": {
    "id": "SJ4xgu6J3exU"
   },
   "source": [
    "# 7. Apresentação dos Resultados\n",
    "Avalidação do modelo<br>"
   ]
  },
  {
   "cell_type": "markdown",
   "metadata": {
    "id": "neqxOXF84gvg"
   },
   "source": [
    "**Matriz de Confusão**"
   ]
  },
  {
   "cell_type": "code",
   "execution_count": 29,
   "metadata": {},
   "outputs": [
    {
     "data": {
      "image/png": "[encoded data removed]",
      "text/plain": [
       "<Figure size 432x288 with 2 Axes>"
      ]
     },
     "metadata": {},
     "output_type": "display_data"
    }
   ],
   "source": [
    "# Plotando a Matriz de confusão\n",
    "\n",
    "fig, ax = plt.subplots()\n",
    "sns.heatmap(confusion_matrix(y, y_pred), annot=True, \n",
    "            ax=ax, fmt='d', cmap='Reds')\n",
    "ax.set_title(\"Matriz de Confusão\", fontsize=18)\n",
    "ax.set_ylabel(\"True label\")\n",
    "ax.set_xlabel(\"Predicted Label\")\n",
    "plt.tight_layout()"
   ]
  },
  {
   "cell_type": "markdown",
   "metadata": {
    "id": "neqxOXF84gvg"
   },
   "source": [
    "**Curva ROC**"
   ]
  },
  {
   "cell_type": "code",
   "execution_count": 30,
   "metadata": {},
   "outputs": [
    {
     "data": {
      "image/png": "[encoded data removed]",
      "text/plain": [
       "<Figure size 864x288 with 1 Axes>"
      ]
     },
     "metadata": {},
     "output_type": "display_data"
    }
   ],
   "source": [
    "from sklearn.metrics import roc_curve\n",
    "fpr, tpr, thresholds = roc_curve(y, y_pred)\n",
    "fig, ax = plt.subplots(figsize = (12,4))\n",
    "plt.plot(fpr, tpr, linewidth=2, label = 'XGBoost')\n",
    "plt.plot([0,1], [0,1], 'k--')\n",
    "plt.axis([0, 1, 0, 1])\n",
    "plt.xlabel('Taxa de Falsos Positivos')\n",
    "plt.ylabel('Taxa de Verdadeiros Positivos')\n",
    "plt.legend(loc = 'lower right')\n",
    "plt.title('Curva ROC', fontsize = 14)\n",
    "plt.show()"
   ]
  },
  {
   "cell_type": "code",
   "execution_count": 31,
   "metadata": {},
   "outputs": [
    {
     "name": "stdout",
     "output_type": "stream",
     "text": [
      "Área sob a curva ROC: 0.6743\n"
     ]
    }
   ],
   "source": [
    "from sklearn.metrics import roc_auc_score\n",
    "print('Área sob a curva ROC: {:.4f}'\n",
    "      .format(roc_auc_score(y, y_pred)))"
   ]
  },
  {
   "cell_type": "code",
   "execution_count": null,
   "metadata": {},
   "outputs": [],
   "source": []
  }
 ],
 "metadata": {
  "accelerator": "GPU",
  "colab": {
   "collapsed_sections": [],
   "name": "Projeto ML01 (Minerando Dados)",
   "provenance": []
  },
  "kernelspec": {
   "display_name": "Python 3 (ipykernel)",
   "language": "python",
   "name": "python3"
  },
  "language_info": {
   "codemirror_mode": {
    "name": "ipython",
    "version": 3
   },
   "file_extension": ".py",
   "mimetype": "text/x-python",
   "name": "python",
   "nbconvert_exporter": "python",
   "pygments_lexer": "ipython3",
   "version": "3.9.7"
  }
 },
 "nbformat": 4,
 "nbformat_minor": 1
}
